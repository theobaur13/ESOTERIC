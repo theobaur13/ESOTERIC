{
  "cells": [
    {
      "cell_type": "code",
      "execution_count": null,
      "metadata": {
        "id": "aDeO7PZdTOzt"
      },
      "outputs": [],
      "source": [
        "!pip install sentence-transformers==2.3.1\n",
        "!pip install 'farm-haystack[elasticsearch8]'"
      ]
    },
    {
      "cell_type": "code",
      "execution_count": null,
      "metadata": {
        "id": "8FjHBPu3Txpb"
      },
      "outputs": [],
      "source": [
        "from haystack.document_stores.elasticsearch import ElasticsearchDocumentStore\n",
        "from haystack.nodes import DensePassageRetriever\n",
        "from google.colab import runtime"
      ]
    },
    {
      "cell_type": "code",
      "execution_count": null,
      "metadata": {
        "id": "8rr0pAKSTGCI"
      },
      "outputs": [],
      "source": [
        "server_url = \"\" # Doesn't include the transfer protocol\n",
        "username = \"\"\n",
        "password = \"\"\n",
        "scheme = \"\" # Should be \"http\" or \"https\"\n",
        "port = 443"
      ]
    },
    {
      "cell_type": "code",
      "execution_count": null,
      "metadata": {
        "id": "rYz-SI1CTzD9"
      },
      "outputs": [],
      "source": [
        "# Connect to Elasticsearch\n",
        "document_store = ElasticsearchDocumentStore(\n",
        "    host=server_url, scheme=scheme, port=443,\n",
        "    username=username, password=password,\n",
        "    index=\"documents\",\n",
        "    embedding_field=\"embedding\",\n",
        "    embedding_dim=768,\n",
        ")\n",
        "print (\"Connected to Elasticsearch\")\n",
        "\n",
        "# Load Dense Passage Retriever\n",
        "retriever = DensePassageRetriever(\n",
        "    document_store=document_store,\n",
        "    query_embedding_model=\"facebook/dpr-question_encoder-single-nq-base\",\n",
        "    passage_embedding_model=\"facebook/dpr-ctx_encoder-single-nq-base\",\n",
        "    use_gpu=True,\n",
        "    embed_title=True,\n",
        "    batch_size=200,\n",
        ")\n",
        "print(\"Loaded DPR\")\n",
        "\n",
        "# Load the document store\n",
        "document_store.update_embeddings(\n",
        "    retriever=retriever,\n",
        "    index=\"documents\",\n",
        "    update_existing_embeddings=False\n",
        ")\n",
        "print(\"Loaded embeddings\")\n",
        "runtime.unassign()"
      ]
    }
  ],
  "metadata": {
    "accelerator": "GPU",
    "colab": {
      "gpuType": "T4",
      "machine_shape": "hm",
      "provenance": []
    },
    "kernelspec": {
      "display_name": "Python 3",
      "name": "python3"
    },
    "language_info": {
      "name": "python"
    }
  },
  "nbformat": 4,
  "nbformat_minor": 0
}